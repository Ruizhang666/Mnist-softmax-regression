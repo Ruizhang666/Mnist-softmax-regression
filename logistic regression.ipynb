{
 "cells": [
  {
   "cell_type": "code",
   "execution_count": 2,
   "metadata": {},
   "outputs": [],
   "source": [
    "import numpy as np\n",
    "import matplotlib.pyplot as plt\n",
    "import os"
   ]
  },
  {
   "cell_type": "code",
   "execution_count": 3,
   "metadata": {},
   "outputs": [],
   "source": [
    "def generate_minibatches(dataset, batch_size=64):\n",
    "    X, y = dataset\n",
    "    l_idx, r_idx = 0, batch_size\n",
    "    while r_idx < len(X):\n",
    "        yield X[l_idx:r_idx], y[l_idx:r_idx]\n",
    "        l_idx, r_idx = r_idx, r_idx + batch_size\n",
    "\n",
    "    yield X[l_idx:], y[l_idx:]\n",
    "\n",
    "def generate_k_fold_set(dataset, k = 10):\n",
    "    X, y = dataset\n",
    "\n",
    "    order = np.random.permutation(len(X))\n",
    "\n",
    "    fold_width = len(X) // k\n",
    "\n",
    "    l_idx, r_idx = 0, fold_width\n",
    "\n",
    "    for i in range(k):\n",
    "        train = np.concatenate([X[order[:l_idx]], X[order[r_idx:]]]), np.concatenate([y[order[:l_idx]], y[order[r_idx:]]])\n",
    "        validation = X[order[l_idx:r_idx]], y[order[l_idx:r_idx]]\n",
    "        yield train, validation\n",
    "        l_idx, r_idx = r_idx, r_idx + fold_width\n",
    "\n",
    "def shuffle(dataset):\n",
    "    \"\"\"\n",
    "    Shuffle dataset.\n",
    "\n",
    "    Make sure that corresponding images and labels are kept together.\n",
    "    Ideas:\n",
    "        NumPy array indexing\n",
    "            https://numpy.org/doc/stable/user/basics.indexing.html#advanced-indexing\n",
    "\n",
    "    Parameters\n",
    "    ----------\n",
    "    dataset\n",
    "        Tuple containing\n",
    "            Images (X)\n",
    "            Labels (y)\n",
    "\n",
    "    Returns\n",
    "    -------\n",
    "        Tuple containing\n",
    "            Images (X)\n",
    "            Labels (y)\n",
    "    \"\"\"\n",
    "    length = np.arange(dataset[1].size)\n",
    "    np.random.shuffle(length)\n",
    "    return (dataset[0][length],dataset[1][length])"
   ]
  },
  {
   "cell_type": "code",
   "execution_count": 4,
   "metadata": {},
   "outputs": [],
   "source": [
    "def load_data(train = True):\n",
    "    \"\"\"\n",
    "    Load the data from disk\n",
    "    Parameters\n",
    "    ----------\n",
    "    train : bool\n",
    "        Load training data if true, else load test data\n",
    "    Returns\n",
    "    -------\n",
    "        Tuple:\n",
    "            Images\n",
    "            Labels\n",
    "    \"\"\"\n",
    "    directory = 'train' if train else 'test'\n",
    "    patterns = np.load(os.path.join('./data/', directory, 'images.npz'))['arr_0']\n",
    "    labels = np.load(os.path.join('./data/', directory, 'labels.npz'))['arr_0']\n",
    "    return patterns.reshape(len(patterns), -1), labels"
   ]
  },
  {
   "cell_type": "code",
   "execution_count": 5,
   "metadata": {},
   "outputs": [],
   "source": [
    "def append_bias(X):\n",
    "    \"\"\"\n",
    "    Append bias term for dataset.\n",
    "\n",
    "    Parameters\n",
    "    ----------\n",
    "    X\n",
    "        2d numpy array with shape (N,d)\n",
    "\n",
    "    Returns\n",
    "    -------\n",
    "        2d numpy array with shape (N,d+1)\n",
    "    \"\"\"\n",
    "    return np.concatenate((X,np.random.randint(np.max(X),size=X.shape[0]).reshape(X.shape[0],1)), axis=1)"
   ]
  },
  {
   "cell_type": "code",
   "execution_count": 6,
   "metadata": {},
   "outputs": [],
   "source": [
    "patterns, labels = load_data(False)"
   ]
  },
  {
   "cell_type": "code",
   "execution_count": 7,
   "metadata": {},
   "outputs": [
    {
     "data": {
      "text/plain": [
       "array([[ 0, 97, 35, ...,  0,  0,  0],\n",
       "       [ 0,  0,  0, ...,  0,  0,  0],\n",
       "       [ 0,  0,  0, ...,  0,  0,  0],\n",
       "       ...,\n",
       "       [ 0,  0,  0, ...,  0,  0,  0],\n",
       "       [ 0,  0,  0, ...,  0,  0,  0],\n",
       "       [ 0,  0,  0, ...,  0,  0,  0]], dtype=uint8)"
      ]
     },
     "execution_count": 7,
     "metadata": {},
     "output_type": "execute_result"
    }
   ],
   "source": [
    "patterns"
   ]
  },
  {
   "cell_type": "code",
   "execution_count": 8,
   "metadata": {
    "scrolled": true
   },
   "outputs": [
    {
     "data": {
      "text/plain": [
       "(10000, 784)"
      ]
     },
     "execution_count": 8,
     "metadata": {},
     "output_type": "execute_result"
    }
   ],
   "source": [
    "patterns.shape"
   ]
  },
  {
   "cell_type": "code",
   "execution_count": 15,
   "metadata": {},
   "outputs": [],
   "source": [
    "zero = patterns[np.where(labels==0)][0]\n",
    "one = patterns[np.where(labels==1)][0]\n",
    "two = patterns[np.where(labels==2)][0]\n",
    "three = patterns[np.where(labels==3)][0]\n",
    "four = patterns[np.where(labels==4)][0]\n",
    "five= patterns[np.where(labels==5)][0]\n",
    "six= patterns[np.where(labels==6)][0]\n",
    "seven= patterns[np.where(labels==7)][0]\n",
    "eight= patterns[np.where(labels==8)][0]\n",
    "nine= patterns[np.where(labels==9)][0]"
   ]
  },
  {
   "cell_type": "code",
   "execution_count": 16,
   "metadata": {},
   "outputs": [
    {
     "data": {
      "text/plain": [
       "<matplotlib.image.AxesImage at 0x7fc14a9d4710>"
      ]
     },
     "execution_count": 16,
     "metadata": {},
     "output_type": "execute_result"
    },
    {
     "data": {
      "image/png": "[encoded data removed]",
      "text/plain": [
       "<Figure size 432x288 with 1 Axes>"
      ]
     },
     "metadata": {
      "needs_background": "light"
     },
     "output_type": "display_data"
    }
   ],
   "source": [
    "plt.imshow(zero.reshape(28, 28), cmap='gray')"
   ]
  },
  {
   "cell_type": "code",
   "execution_count": null,
   "metadata": {},
   "outputs": [],
   "source": []
  },
  {
   "cell_type": "code",
   "execution_count": null,
   "metadata": {},
   "outputs": [],
   "source": []
  },
  {
   "cell_type": "code",
   "execution_count": 17,
   "metadata": {
    "scrolled": false
   },
   "outputs": [
    {
     "data": {
      "text/plain": [
       "<matplotlib.image.AxesImage at 0x7fc14a0a07d0>"
      ]
     },
     "execution_count": 17,
     "metadata": {},
     "output_type": "execute_result"
    },
    {
     "data": {
      "image/png": "[encoded data removed]",
      "text/plain": [
       "<Figure size 432x288 with 1 Axes>"
      ]
     },
     "metadata": {
      "needs_background": "light"
     },
     "output_type": "display_data"
    }
   ],
   "source": [
    "plt.imshow(patterns[0].reshape(28, 28), cmap='gray')"
   ]
  },
  {
   "cell_type": "code",
   "execution_count": 19,
   "metadata": {
    "scrolled": false
   },
   "outputs": [
    {
     "data": {
      "image/png": "[encoded data removed]",
      "text/plain": [
       "<Figure size 864x432 with 10 Axes>"
      ]
     },
     "metadata": {
      "needs_background": "light"
     },
     "output_type": "display_data"
    }
   ],
   "source": [
    "# Initialise the subplot function using number of rows and columns\n",
    "figure, axis = plt.subplots(2, 5,figsize=(12,6))\n",
    "\n",
    "  \n",
    "axis[0, 0].imshow(zero.reshape(28, 28), cmap='gray')\n",
    "axis[0, 0].set_title(\"Zero\")\n",
    "  \n",
    "axis[0, 1].imshow(one.reshape(28, 28), cmap='gray')\n",
    "axis[0, 1].set_title(\"One\")\n",
    "\n",
    "axis[0, 2].imshow(two.reshape(28, 28), cmap='gray')\n",
    "axis[0, 2].set_title(\"Two\")\n",
    "\n",
    "axis[0, 3].imshow(three.reshape(28, 28), cmap='gray')\n",
    "axis[0, 3].set_title(\"Three\")\n",
    "\n",
    "axis[0, 4].imshow(four.reshape(28, 28), cmap='gray')\n",
    "axis[0, 4].set_title(\"Four\")\n",
    "\n",
    "axis[1, 0].imshow(five.reshape(28, 28), cmap='gray')\n",
    "axis[1, 0].set_title(\"Five\")\n",
    "\n",
    "axis[1, 1].imshow(six.reshape(28, 28), cmap='gray')\n",
    "axis[1, 1].set_title(\"Six\")\n",
    "\n",
    "axis[1, 2].imshow(seven.reshape(28, 28), cmap='gray')\n",
    "axis[1, 2].set_title(\"Seven\")\n",
    "\n",
    "axis[1, 3].imshow(eight.reshape(28, 28), cmap='gray')\n",
    "axis[1, 3].set_title(\"Eight\")\n",
    "\n",
    "axis[1, 4].imshow(nine.reshape(28, 28), cmap='gray')\n",
    "axis[1, 4].set_title(\"Nine\")\n",
    "  \n",
    "# Combine all the operations and display\n",
    "plt.show()"
   ]
  },
  {
   "cell_type": "code",
   "execution_count": 13,
   "metadata": {},
   "outputs": [],
   "source": [
    "zero = patterns[np.where(labels==0)].shape\n",
    "one = patterns[np.where(labels==1)].shape\n",
    "two = patterns[np.where(labels==2)].shape\n",
    "three = patterns[np.where(labels==3)].shape\n",
    "four = patterns[np.where(labels==4)].shape\n",
    "five= patterns[np.where(labels==5)].shape\n",
    "six= patterns[np.where(labels==6)].shape\n",
    "seven= patterns[np.where(labels==7)].shape\n",
    "eight= patterns[np.where(labels==8)].shape\n",
    "nine= patterns[np.where(labels==9)].shape"
   ]
  },
  {
   "cell_type": "code",
   "execution_count": 40,
   "metadata": {},
   "outputs": [
    {
     "name": "stdout",
     "output_type": "stream",
     "text": [
      "(1000, 784) (1000, 784) (1000, 784) (1000, 784) (1000, 784) (1000, 784) (1000, 784) (1000, 784) (1000, 784) (1000, 784)\n"
     ]
    }
   ],
   "source": [
    "print(zero,one,two,three,four,five,six,seven,eight,nine)"
   ]
  },
  {
   "cell_type": "code",
   "execution_count": null,
   "metadata": {},
   "outputs": [],
   "source": []
  },
  {
   "cell_type": "code",
   "execution_count": null,
   "metadata": {},
   "outputs": [],
   "source": []
  },
  {
   "cell_type": "code",
   "execution_count": null,
   "metadata": {},
   "outputs": [],
   "source": []
  },
  {
   "cell_type": "code",
   "execution_count": 21,
   "metadata": {},
   "outputs": [],
   "source": [
    "def z_score_normalize(X, u = None, xd = None):\n",
    "    \"\"\"\n",
    "    Performs z-score normalization on X.\n",
    "\n",
    "    f(x) = (x - μ) / σ\n",
    "        where\n",
    "            μ = mean of x\n",
    "            σ = standard deviation of x\n",
    "\n",
    "    Parameters\n",
    "    ----------\n",
    "    X : np.array\n",
    "        The data to z-score normalize\n",
    "    u (optional) : np.array\n",
    "        The mean to use when normalizing\n",
    "    sd (optional) : np.array\n",
    "        The standard deviation to use when normalizing\n",
    "\n",
    "    Returns\n",
    "    -------\n",
    "        Tuple:\n",
    "            Transformed dataset with mean 0 and stdev 1\n",
    "            Computed statistics (mean and stdev) for the dataset to undo z-scoring.\n",
    "    \"\"\"\n",
    "    means = np.mean(X, axis=0)\n",
    "    standard_deviation = np.std(X, axis=0)\n",
    "    return (X-means)/standard_deviation"
   ]
  },
  {
   "cell_type": "code",
   "execution_count": 18,
   "metadata": {},
   "outputs": [
    {
     "data": {
      "text/plain": [
       "(60000, 785)"
      ]
     },
     "execution_count": 18,
     "metadata": {},
     "output_type": "execute_result"
    }
   ],
   "source": [
    "c = append_bias(patterns)\n",
    "c.shape"
   ]
  },
  {
   "cell_type": "code",
   "execution_count": 19,
   "metadata": {},
   "outputs": [],
   "source": [
    "ones = (c[np.where(labels==1)],labels[labels==1])\n",
    "twos = (c[np.where(labels==2)],labels[labels==2])\n",
    "sixths = (c[np.where(labels==6)],labels[labels==6])"
   ]
  },
  {
   "cell_type": "code",
   "execution_count": 22,
   "metadata": {},
   "outputs": [],
   "source": [
    "onwtwo=z_score_normalize(np.concatenate([twos[0],sixths[0]]))"
   ]
  },
  {
   "cell_type": "code",
   "execution_count": 23,
   "metadata": {},
   "outputs": [],
   "source": [
    "labels12 = np.array(labels[labels==2].size*[0]+labels[labels==6].size*[1])"
   ]
  },
  {
   "cell_type": "code",
   "execution_count": 24,
   "metadata": {},
   "outputs": [],
   "source": [
    "#for ones and twos\n",
    "onetwo = (onwtwo,labels12)"
   ]
  },
  {
   "cell_type": "code",
   "execution_count": null,
   "metadata": {},
   "outputs": [],
   "source": []
  },
  {
   "cell_type": "code",
   "execution_count": 31,
   "metadata": {},
   "outputs": [],
   "source": [
    "logistic_regression=Network(1,sigmoid, binary_cross_entropy,1)"
   ]
  },
  {
   "cell_type": "code",
   "execution_count": null,
   "metadata": {},
   "outputs": [],
   "source": []
  },
  {
   "cell_type": "code",
   "execution_count": 33,
   "metadata": {},
   "outputs": [],
   "source": [
    "def train_data(X):\n",
    "    X,y = X\n",
    "    \n",
    "    training_losses = []\n",
    "    validation_losses = []\n",
    "    weight_lst = []\n",
    "    training_losses = []\n",
    "    validation_losses = []\n",
    "\n",
    "    for training, validation in generate_k_fold_set((X,y)):\n",
    "        \n",
    "        networks = Network(0.01, z_score_normalize, binary_cross_entropy, 1)\n",
    "        \n",
    "        for epoch in range(100):\n",
    "            shuffle(training)\n",
    "            train_loss,train_accuracy = networks.train(training)\n",
    "            print(train_loss)\n",
    "            vali_loss,vali_accuracy = networks.test(validation)\n",
    "    \n",
    "    return training_losses"
   ]
  },
  {
   "cell_type": "code",
   "execution_count": null,
   "metadata": {},
   "outputs": [],
   "source": []
  },
  {
   "cell_type": "code",
   "execution_count": 25,
   "metadata": {},
   "outputs": [],
   "source": [
    "\"\"\"\n",
    "NOTE\n",
    "----\n",
    "Start by implementing your methods in non-vectorized format - use loops and other basic programming constructs.\n",
    "Once you're sure everything works, use NumPy's vector operations (dot products, etc.) to speed up your network.\n",
    "\"\"\"\n",
    "\n",
    "def sigmoid(a):\n",
    "    \"\"\"\n",
    "    Compute the sigmoid function.\n",
    "\n",
    "    f(x) = 1 / (1 + e ^ (-x))\n",
    "\n",
    "    Parameters\n",
    "    ----------\n",
    "    a\n",
    "        The internal value while a pattern goes through the network\n",
    "    Returns\n",
    "    -------\n",
    "    float\n",
    "       Value after applying sigmoid (z from the slides).\n",
    "    \"\"\"\n",
    "    return 1/(1+np.exp(-a))\n",
    "\n",
    "def softmax(a):\n",
    "    \"\"\"\n",
    "    Compute the softmax function.\n",
    "\n",
    "    f(x) = (e^x) / Σ (e^x)\n",
    "\n",
    "    Parameters\n",
    "    ----------\n",
    "    a\n",
    "        The internal value while a pattern goes through the network\n",
    "    Returns\n",
    "    -------\n",
    "    float\n",
    "       Value after applying softmax (z from the slides).\n",
    "    \"\"\"\n",
    "    a_exp = np.exp(a)\n",
    "    partition = np.sum(a_exp, axis=1)\n",
    "    return a_exp / partition\n",
    "\n",
    "def binary_cross_entropy(y, t):\n",
    "    \"\"\"\n",
    "    Compute binary cross entropy.\n",
    "\n",
    "    L(x) = t*ln(y) + (1-t)*ln(1-y)\n",
    "\n",
    "    Parameters\n",
    "    ----------\n",
    "    y\n",
    "        The network's predictions\n",
    "    t\n",
    "        The corresponding targets\n",
    "    Returns\n",
    "    -------\n",
    "    float\n",
    "        binary cross entropy loss value according to above definition\n",
    "    \"\"\"\n",
    "    return t*np.log(y)+ (1-t)*np.log(1-y)\n",
    "\n",
    "def multiclass_cross_entropy(y, t):\n",
    "    \"\"\"\n",
    "    Compute multiclass cross entropy.\n",
    "\n",
    "    L(x) = - Σ (t*ln(y))\n",
    "\n",
    "    Parameters\n",
    "    ----------\n",
    "    y\n",
    "        The network's predictions\n",
    "    t\n",
    "        The corresponding targets\n",
    "    Returns\n",
    "    -------\n",
    "    float\n",
    "        multiclass cross entropy loss value according to above definition\n",
    "    \"\"\"\n",
    "    return np.sum(t*np.log(y),axis=1)\n",
    "\n",
    "class Network:\n",
    "    def __init__(self, hyperparameters, activation, loss, out_dim):\n",
    "        \"\"\"\n",
    "        Perform required setup for the network.\n",
    "\n",
    "        Initialize the weight matrix, set the activation function, save hyperparameters.\n",
    "\n",
    "        You may want to create arrays to save the loss values during training.\n",
    "\n",
    "        Parameters\n",
    "        ----------\n",
    "        hyperparameters\n",
    "            A Namespace object from `argparse` containing the hyperparameters\n",
    "        activation\n",
    "            The non-linear activation function to use for the network\n",
    "        loss\n",
    "            The loss function to use while training and testing\n",
    "        \"\"\"\n",
    "        self.hyperparameters = hyperparameters\n",
    "        self.activation = activation\n",
    "        self.loss = loss\n",
    "        self.weights = np.zeros((28*28+1, out_dim))\n",
    "\n",
    "    def forward(self, X):\n",
    "        \"\"\"\n",
    "        Apply the model to the given patterns\n",
    "\n",
    "        Use `self.weights` and `self.activation` to compute the network's output\n",
    "\n",
    "        f(x) = σ(w*x)\n",
    "            where\n",
    "                σ = non-linear activation function(ReLu)\n",
    "                w = weight matrix\n",
    "\n",
    "        Make sure you are using matrix multiplication when you vectorize your code!\n",
    "\n",
    "        Parameters\n",
    "        ----------\n",
    "        X\n",
    "            Patterns to create outputs for\n",
    "        \"\"\"\n",
    "        return self.activation(X@self.weights)\n",
    "\n",
    "    def __call__(self, X):\n",
    "        return self.forward(X)\n",
    "\n",
    "    def train(self, minibatch):\n",
    "        \"\"\"\n",
    "        Train the network on the given minibatch\n",
    "\n",
    "        Use `self.weights` and `self.activation` to compute the network's output\n",
    "        Use `self.loss` and the gradient defined in the slides to update the network.\n",
    "\n",
    "        Parameters\n",
    "        ----------\n",
    "        minibatch\n",
    "            The minibatch to iterate over\n",
    "\n",
    "        Returns\n",
    "        -------\n",
    "        tuple containing:\n",
    "            average loss over minibatch#\n",
    "            accuracy over minibatch\n",
    "        \"\"\"\n",
    "        X, y = minibatch\n",
    "        \n",
    "        for X_train,y_train in generate_minibatches(X):\n",
    "            # apply activation function 64x1\n",
    "            activated = self.forward(X_train)\n",
    "            #errors 785x1\n",
    "            errors = activated - y_train.reshape(y_train.shape[0],out_dim)\n",
    "            #calculates gradient 1x785\n",
    "            gradients = errors.T@X_train\n",
    "            # update weights using stochastic gradient descent\n",
    "            self.weights = self.weights - 0.001*(gradients.T)\n",
    "\n",
    "        # calculate loss\n",
    "        train_loss = self.loss(self.forward(X), y.reshape(-1,out_dim))\n",
    "        train_accuracy = ((self.forward(X)>=0.5) ==y.reshape(-1,out_dim))\n",
    "        \n",
    "        return np.mean(training_losses),np.mean(train_accuracy)\n",
    "    \n",
    "    \n",
    "    def test(self, minibatch):\n",
    "        \"\"\"\n",
    "        Test the network on the given minibatch\n",
    "\n",
    "        Use `self.weights` and `self.activation` to compute the network's output\n",
    "        Use `self.loss` to compute the loss.\n",
    "        Do NOT update the weights in this method!\n",
    "\n",
    "        Parameters\n",
    "        ----------\n",
    "        minibatch\n",
    "            The minibatch to iterate over\n",
    "\n",
    "        Returns\n",
    "        -------\n",
    "            tuple containing:\n",
    "                average loss over minibatch\n",
    "                accuracy over minibatch\n",
    "        \"\"\"\n",
    "        X, y = minibatch\n",
    "        \n",
    "         # calculate loss\n",
    "        validation_losses = self.loss(self.forward(X), y.reshape(-1,out_dim))\n",
    "        vali_accuracy = ((self.forward(X)>=0.5) == y.reshape(-1,out_dim))\n",
    "        \n",
    "        return validation_losses,vali_accuracy\n"
   ]
  },
  {
   "cell_type": "code",
   "execution_count": null,
   "metadata": {},
   "outputs": [],
   "source": [
    "fig, ax = plt.subplots(1, 1, figsize=(7,4))\n",
    "ax.plot(np.arange(1, 500+1), training_losses, '--o')\n",
    "ax.set_title('Gradient descent with momentum beta 0.9 loss curve')\n",
    "ax.set_xlabel('Iteration')\n",
    "ax.set_ylabel('loss')"
   ]
  }
 ],
 "metadata": {
  "kernelspec": {
   "display_name": "Python 3",
   "language": "python",
   "name": "python3"
  },
  "language_info": {
   "codemirror_mode": {
    "name": "ipython",
    "version": 3
   },
   "file_extension": ".py",
   "mimetype": "text/x-python",
   "name": "python",
   "nbconvert_exporter": "python",
   "pygments_lexer": "ipython3",
   "version": "3.7.6"
  }
 },
 "nbformat": 4,
 "nbformat_minor": 4
}
